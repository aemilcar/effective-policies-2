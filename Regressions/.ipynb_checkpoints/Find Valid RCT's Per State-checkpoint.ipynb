{
 "cells": [
  {
   "cell_type": "code",
   "execution_count": 36,
   "metadata": {},
   "outputs": [],
   "source": [
    "import pandas as pd"
   ]
  },
  {
   "cell_type": "code",
   "execution_count": 79,
   "metadata": {},
   "outputs": [],
   "source": [
    "def read_policy_vectors():\n",
    "    df = pd.read_excel('../../Data/b_guns_17 .xlsx')\n",
    "    \n",
    "    rt = {}\n",
    "\n",
    "    for idx, row in df.iterrows():\n",
    "        if idx == 0:\n",
    "            continue\n",
    "\n",
    "        state = row['State']\n",
    "\n",
    "        if state not in rt:\n",
    "            rt[state] = {}\n",
    "\n",
    "        year = row['Year']\n",
    "\n",
    "        policy_vector = row.tolist()[2:]\n",
    "\n",
    "        rt[state][year] = policy_vector\n",
    "        \n",
    "    return rt"
   ]
  },
  {
   "cell_type": "code",
   "execution_count": 139,
   "metadata": {},
   "outputs": [],
   "source": [
    "def find_policies_for_rct(policy_vectors, year):\n",
    "    year = 2014\n",
    "    meta_matching = {}\n",
    "    meta_mismatching = {}\n",
    "\n",
    "    states = list(policy_vectors.keys())\n",
    "\n",
    "    for i in range(len(states)):\n",
    "        \n",
    "        s1 = states[i]\n",
    "        state_pairs = states[i+2:]\n",
    "\n",
    "        for j in range(len(state_pairs)):\n",
    "            s2 = state_pairs[j]\n",
    "            s1_vector = policy_vectors[s1][year]\n",
    "            s2_vector = policy_vectors[s2][year]\n",
    "\n",
    "            # find matches & mismatches\n",
    "            matches, mis_matches = find_matches(s1_vector, s2_vector)\n",
    "                        \n",
    "            # add to meta stores\n",
    "            if s1 not in meta_matching:\n",
    "                meta_matching[s1] = {}\n",
    "                \n",
    "            if s1 not in meta_mismatching:                \n",
    "                meta_mismatching[s1] = {}\n",
    "            \n",
    "            meta_matching[s1][s2] = matches\n",
    "            meta_mismatching[s1][s2] = mis_matches\n",
    "            \n",
    "    return meta_matching, meta_mismatching\n",
    "    "
   ]
  },
  {
   "cell_type": "markdown",
   "metadata": {},
   "source": [
    "### Now. There are 47 policy levers. When given 2 policy vectors, we need to figure out\n",
    "- Which policies they have in common\n",
    "- Which policies they do not have in common "
   ]
  },
  {
   "cell_type": "code",
   "execution_count": 81,
   "metadata": {},
   "outputs": [],
   "source": [
    "def find_matches(s1_vector, s2_vector):\n",
    "    '''\n",
    "    Returns matching and unmatching policies for 2 states. \n",
    "    '''\n",
    "    n_policies = len(s1_vector)\n",
    "    assert len(s1_vector) == len(s2_vector)\n",
    "    \n",
    "    matches = {}\n",
    "    \n",
    "    mis_matches = {}\n",
    "    \n",
    "    for p in range(n_policies):\n",
    "        s1_policy = s1_vector[p]\n",
    "        s2_policy = s2_vector[p]\n",
    "        \n",
    "        if s1_policy == s2_policy:\n",
    "            matches[p] = True         \n",
    "        else:\n",
    "            mis_matches[p] = True\n",
    "    \n",
    "    return matches, mis_matches"
   ]
  },
  {
   "cell_type": "code",
   "execution_count": 77,
   "metadata": {},
   "outputs": [
    {
     "data": {
      "text/plain": [
       "0.46875"
      ]
     },
     "execution_count": 77,
     "metadata": {},
     "output_type": "execute_result"
    }
   ],
   "source": [
    "len(mis_matches)/len(matches)"
   ]
  },
  {
   "cell_type": "markdown",
   "metadata": {},
   "source": [
    "### Now we know which policies they have in common versus not. Let's store this information, and see how it scales across all of the states. \n",
    "If we virtually NEVER have a single policy difference, then we'll know we need to make a cutoff.\n",
    "Otherwise, we'll shoot for examples that have a single policy difference."
   ]
  },
  {
   "cell_type": "code",
   "execution_count": 140,
   "metadata": {},
   "outputs": [],
   "source": [
    "policy_vectors = read_policy_vectors()\n",
    "meta_matching, meta_mismatching = find_policies_for_rct(policy_vectors, 2014)\n",
    "total_matches, total_mismatches = find_total_matches(meta_matching, meta_mismatching)"
   ]
  },
  {
   "cell_type": "code",
   "execution_count": 98,
   "metadata": {},
   "outputs": [],
   "source": [
    "def find_total_matches(meta_matching, meta_mismatching):\n",
    "\n",
    "    total_matches = {}\n",
    "    total_mismatches = {}\n",
    "\n",
    "    dicts = [meta_matching, meta_mismatching]\n",
    "\n",
    "    for i, d in enumerate(dicts):\n",
    "\n",
    "        for s1 in d.keys():\n",
    "\n",
    "            for s2 in d[s1].keys():\n",
    "\n",
    "                for k,v in d[s1][s2].items():\n",
    "                    if i == 0:\n",
    "\n",
    "                        if k not in total_matches:\n",
    "                            total_matches[k] = 1\n",
    "                        else:\n",
    "                            total_matches[k] += 1\n",
    "\n",
    "                    else:\n",
    "                        if k not in total_mismatches:\n",
    "                            total_mismatches[k] = 1\n",
    "                        else:\n",
    "                            total_mismatches[k] += 1\n",
    "                            \n",
    "    return total_matches, total_mismatches"
   ]
  },
  {
   "cell_type": "markdown",
   "metadata": {},
   "source": [
    "### Now, let's get a histogram with matching vs unmatched policies across all states\n",
    "In 2014, that is"
   ]
  },
  {
   "cell_type": "code",
   "execution_count": 141,
   "metadata": {},
   "outputs": [],
   "source": [
    "matching_keys = sorted(list(total_matches.keys()))\n",
    "mismatching_keys = sorted(list(total_mismatches.keys()))"
   ]
  },
  {
   "cell_type": "code",
   "execution_count": 149,
   "metadata": {},
   "outputs": [],
   "source": [
    "def get_ys(keys, d):\n",
    "    rt = []\n",
    "    for k in keys:\n",
    "        rt.append(d[k]/50)\n",
    "    return rt\n",
    "\n",
    "matching_ys = get_ys(matching_keys, total_matches)\n",
    "mismatching_ys = get_ys(mismatching_keys, total_mismatches)"
   ]
  },
  {
   "cell_type": "code",
   "execution_count": 151,
   "metadata": {},
   "outputs": [
    {
     "data": {
      "image/png": "[encoded data removed]",
      "text/plain": [
       "<Figure size 432x288 with 1 Axes>"
      ]
     },
     "metadata": {},
     "output_type": "display_data"
    }
   ],
   "source": [
    "%matplotlib inline\n",
    "\n",
    "from matplotlib.ticker import FuncFormatter\n",
    "import matplotlib.pyplot as plt\n",
    "import numpy as np\n",
    "\n",
    "fig, ax = plt.subplots()\n",
    "plt.bar(matching_keys, matching_ys)\n",
    "plt.bar(mismatching_keys, mismatching_ys, color='yellow')\n",
    "plt.title('Matched and Mismatched State Policies in 2014')\n",
    "plt.legend(['Matched', 'Mismatched'])\n",
    "plt.show()"
   ]
  },
  {
   "cell_type": "markdown",
   "metadata": {},
   "source": [
    "## Based on this sample, it looks like at a minimum, we'd need two states to have only 13 policies that are different.\n",
    "Best case scenario appears to be a maximum of 5 policies that are not shared, but this is very rare. "
   ]
  },
  {
   "cell_type": "code",
   "execution_count": 127,
   "metadata": {},
   "outputs": [],
   "source": [
    "def find_valid_experiments(total_mismatches):\n",
    "    states = list(total_mismatches.keys())"
   ]
  },
  {
   "cell_type": "code",
   "execution_count": 170,
   "metadata": {},
   "outputs": [],
   "source": [
    "valid_rcts = {}\n",
    "\n",
    "states = list(meta_mismatching.keys())\n",
    "\n",
    "for s1 in meta_mismatching.keys():\n",
    "    \n",
    "    for s2 in meta_mismatching[s1].keys():\n",
    "        \n",
    "        n_mismatched = len(meta_mismatching[s1][s2])\n",
    "        \n",
    "        if n_mismatched <= 13:\n",
    "            \n",
    "            if s1 not in valid_rcts:\n",
    "                valid_rcts[s1] = []\n",
    "            \n",
    "            valid_rcts[s1].append([s2, meta_mismatching[s1][s2]])"
   ]
  },
  {
   "cell_type": "code",
   "execution_count": 192,
   "metadata": {},
   "outputs": [],
   "source": [
    "import csv\n",
    "\n",
    "with open('../../Data/valid_rcts_2014.csv', 'w') as f:\n",
    "    writer = csv.writer(f)\n",
    "    writer.writerow(['Treatment State', 'Control State', \"Policy ID's for RCT\"])\n",
    "    \n",
    "    for s1 in valid_rcts.keys():\n",
    "        for each in valid_rcts[s1]:\n",
    "            s2 = each[0]\n",
    "            policies = list(each[1].keys())\n",
    "    \n",
    "            writer.writerow([s1, s2, policies])"
   ]
  },
  {
   "cell_type": "markdown",
   "metadata": {},
   "source": [
    "Given this criteria, of having a maximum of 13 policy levers that are different between 2 states in order to run an RCT, it seems we only have 31 states where we can reasonably run the analysis. \n",
    "\n",
    "I'm ok with that for now. Eventually we can target the juicy states that are totally different from others, but for now let's focus on the ones that fit this research agenda."
   ]
  },
  {
   "cell_type": "markdown",
   "metadata": {},
   "source": [
    "We also need to include the actual policies for the 31 states in these RCTs. The polciy levers are what Pareto is searching for"
   ]
  },
  {
   "cell_type": "code",
   "execution_count": null,
   "metadata": {},
   "outputs": [],
   "source": []
  }
 ],
 "metadata": {
  "kernelspec": {
   "display_name": "conda_python3",
   "language": "python",
   "name": "conda_python3"
  },
  "language_info": {
   "codemirror_mode": {
    "name": "ipython",
    "version": 3
   },
   "file_extension": ".py",
   "mimetype": "text/x-python",
   "name": "python",
   "nbconvert_exporter": "python",
   "pygments_lexer": "ipython3",
   "version": "3.6.5"
  }
 },
 "nbformat": 4,
 "nbformat_minor": 2
}
