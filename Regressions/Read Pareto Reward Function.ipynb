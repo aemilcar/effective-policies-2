{
 "cells": [
  {
   "cell_type": "code",
   "execution_count": 22,
   "metadata": {},
   "outputs": [],
   "source": [
    "import pandas as pd"
   ]
  },
  {
   "cell_type": "code",
   "execution_count": 23,
   "metadata": {},
   "outputs": [],
   "source": [
    "data_path = '/home/ec2-user/SageMaker/Effective-Policies/Data'"
   ]
  },
  {
   "cell_type": "code",
   "execution_count": 24,
   "metadata": {},
   "outputs": [],
   "source": [
    "def read_table(rct):\n",
    "    reg_table = pd.read_csv('{}/regression_table.csv'.format(data_path))\n",
    "    "
   ]
  },
  {
   "cell_type": "code",
   "execution_count": 25,
   "metadata": {},
   "outputs": [],
   "source": [
    "def get_pareto_reward(year, policy_id, state):\n",
    "    '''\n",
    "    When Pareto decides a policy for a given state in a given year,\n",
    "        This function will randomly select a valid experiment for the state\n",
    "        And return its reward function\n",
    "    '''    \n",
    "    rct = get_rct(year, policy_id, state)\n",
    "    \n",
    "    reward = read_table(rct)\n",
    "    \n",
    "    return reward"
   ]
  },
  {
   "cell_type": "code",
   "execution_count": 26,
   "metadata": {},
   "outputs": [
    {
     "name": "stdout",
     "output_type": "stream",
     "text": [
      "/home/ec2-user/SageMaker/effective-policies-2/Regressions\r\n"
     ]
    }
   ],
   "source": [
    "!pwd"
   ]
  },
  {
   "cell_type": "code",
   "execution_count": 102,
   "metadata": {},
   "outputs": [
    {
     "name": "stdout",
     "output_type": "stream",
     "text": [
      "Sorry! We're not supporting that policy or state at the moment. \n",
      "None\n"
     ]
    }
   ],
   "source": [
    "def get_rct(year, policy_id, state):\n",
    "\n",
    "    mapper = pd.read_csv('{}/Policy_ID_RCT_Table.csv'.format(data_path))\n",
    "\n",
    "    subset = mapper[ mapper['PolicyID'] == policy_id]\n",
    "    \n",
    "    try:\n",
    "\n",
    "        if state in set(subset['Treatment State']):\n",
    "            s2 = subset[ subset['Treatment State'] == state]['Control State'].as_matrix()[0]\n",
    "            rct =  [state, s2]\n",
    "\n",
    "        else:\n",
    "\n",
    "            # find a similar state that DID enact that policy\n",
    "\n",
    "            # check if this one is a control state, if so, use it\n",
    "            if state in set(subset['Control State']):\n",
    "                s2 = subset[ subset['Control State'] == state]['Treatment State'].as_matrix()[0]\n",
    "                rct = [state, s2]\n",
    "\n",
    "            # otherwise, search for similar treatment states \n",
    "            else:\n",
    "\n",
    "                potential_states = list(set(subset['Treatment State']))\n",
    "                reg_table = pd.read_csv('{}/regression_table.csv'.format(data_path))\n",
    "\n",
    "                similar_states =  reg_table[ (reg_table['State 1'] == state) | (reg_table['State 2'] == state)]\n",
    "\n",
    "                candidates = similar_states[ (similar_states['State 1'].isin(potential_states)) | (similar_states['State 2'].isin(potential_states))]      \n",
    "\n",
    "                rct_selection = candidates.loc[ abs(candidates['Similarity T Value']).idxmin() ]\n",
    "\n",
    "                rct = candidates.loc[ abs(candidates['Similarity T Value']).idxmin() ][ ['State 1', 'State 2']].tolist()    \n",
    "\n",
    "    except:\n",
    "        print (\"Sorry! We're not supporting that policy or state at the moment. \")\n",
    "        return None\n",
    "                \n",
    "                \n",
    "    return rct\n",
    "\n",
    "rct = get_rct(2014, 30, 'Texas')\n",
    "print (rct)"
   ]
  },
  {
   "cell_type": "code",
   "execution_count": null,
   "metadata": {},
   "outputs": [],
   "source": []
  }
 ],
 "metadata": {
  "kernelspec": {
   "display_name": "conda_python3",
   "language": "python",
   "name": "conda_python3"
  },
  "language_info": {
   "codemirror_mode": {
    "name": "ipython",
    "version": 3
   },
   "file_extension": ".py",
   "mimetype": "text/x-python",
   "name": "python",
   "nbconvert_exporter": "python",
   "pygments_lexer": "ipython3",
   "version": "3.6.5"
  }
 },
 "nbformat": 4,
 "nbformat_minor": 2
}
