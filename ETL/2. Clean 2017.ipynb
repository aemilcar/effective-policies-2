{
 "cells": [
  {
   "cell_type": "code",
   "execution_count": 18,
   "metadata": {},
   "outputs": [],
   "source": [
    "import pandas as pd\n",
    "import json\n",
    "import multiprocessing\n",
    "from multiprocessing import Pool\n",
    "import numpy as np"
   ]
  },
  {
   "cell_type": "code",
   "execution_count": 2,
   "metadata": {},
   "outputs": [],
   "source": [
    "def get_data_and_header():\n",
    "    df = pd.read_csv('../Data/usa_00021.csv')\n",
    "    drop_list = ['DATANUM', 'SERIAL', 'CBSERIAL', 'PERNUM', 'RACED', 'BPLD', 'LANGUAGED', 'OCC', 'IND', 'HHWT']\n",
    "    df.drop(drop_list, axis=1, inplace=True)\n",
    "    header = list(df)\n",
    "    return df, header\n",
    "\n",
    "def read_json(f_name):\n",
    "    with open(f_name) as j:  \n",
    "        codebook = json.load(j)\n",
    "    return codebook"
   ]
  },
  {
   "cell_type": "code",
   "execution_count": 28,
   "metadata": {},
   "outputs": [],
   "source": [
    "def is_skip_case(h):\n",
    "    # these are basically numeric terms\n",
    "    return h in ['INCOME', 'HHWT', 'FARMPROD', 'MORTAMT1', 'PROPINSR', 'RENTGRS', 'CONDOFEE', 'MOBLHOME'\n",
    "                ,'COSTELEC', 'COSTGAS', 'COSTWATR', 'COSTFUEL', 'HHINCOME', 'VALUEH', 'PERWT',\n",
    "                'MOMLOC', 'POPLOC', 'BIRTHYR', 'RACED', 'YRIMMIG', 'YRSUSA1', 'OCC', 'IND', 'INCTOT',\n",
    "                'FTOTINC', 'INCSS', 'INCWELFR', 'INCRETIR', 'POVERTY', 'OCCSCORE', 'SEI', 'HWSEI',\n",
    "                'PRESGL', 'PRENT', 'MOVEDIN', 'RIDERS', 'TRANTIME', 'DEPARTS', 'ROOMS']\n",
    "\n",
    "\n",
    "# It works well with variables defined within the kernel\n",
    "# It fails when we call other functions inside the process\n",
    "# But it won't error out, it just returns a None Type \n",
    "def transform_row(row):\n",
    "    \n",
    "    new_row = list(row[:])\n",
    "    \n",
    "    exceptions = {}\n",
    "    \n",
    "    for idx, each in enumerate(row):\n",
    "        \n",
    "        h = header[idx]\n",
    "\n",
    "        if h == 'YEAR':\n",
    "            new_row[idx] = each\n",
    "            continue\n",
    "\n",
    "        key = str(int(each))\n",
    "\n",
    "        if is_skip_case(h):\n",
    "            new_row[idx] = int(key) \n",
    "            continue\n",
    "                    \n",
    "        try:\n",
    "            new_row[idx] = codes[h][key]\n",
    "\n",
    "        except:\n",
    "            print (h, key)\n",
    "#             new_row[idx] = codes[h][key]\n",
    "\n",
    "    return new_row\n",
    "\n",
    "def magic_loop(rows):\n",
    "    pool = Pool(processes=multiprocessing.cpu_count())\n",
    "    transformed_rows= pool.map(transform_row, rows)\n",
    "    pool.close() \n",
    "    pool.join()\n",
    "    df = pd.DataFrame(transformed_rows, columns = header)\n",
    "    return df"
   ]
  },
  {
   "cell_type": "code",
   "execution_count": 4,
   "metadata": {},
   "outputs": [],
   "source": [
    "codes = read_json('../Data/codebook.json')\n",
    "# the full file takes about 3.25 minutes to load into memory on an m5.4xl \n",
    "df, header = get_data_and_header()"
   ]
  },
  {
   "cell_type": "code",
   "execution_count": 8,
   "metadata": {},
   "outputs": [],
   "source": [
    "rows = df.as_matrix()"
   ]
  },
  {
   "cell_type": "code",
   "execution_count": 39,
   "metadata": {},
   "outputs": [],
   "source": [
    "transformed_df = magic_loop(rows)"
   ]
  },
  {
   "cell_type": "code",
   "execution_count": 41,
   "metadata": {},
   "outputs": [],
   "source": [
    "transformed_df.to_csv('../Data/transformed_2017.csv', index=False)"
   ]
  },
  {
   "cell_type": "code",
   "execution_count": 43,
   "metadata": {},
   "outputs": [
    {
     "name": "stdout",
     "output_type": "stream",
     "text": [
      "upload: ../Data/transformed_2017.csv to s3://ep-state-data-raw/Sample-2017/transformed_2017.csv\n"
     ]
    }
   ],
   "source": [
    "!aws s3 cp '../Data/transformed_2017.csv' s3://ep-state-data-raw/Sample-2017/"
   ]
  },
  {
   "cell_type": "code",
   "execution_count": null,
   "metadata": {},
   "outputs": [],
   "source": []
  }
 ],
 "metadata": {
  "kernelspec": {
   "display_name": "conda_python3",
   "language": "python",
   "name": "conda_python3"
  },
  "language_info": {
   "codemirror_mode": {
    "name": "ipython",
    "version": 3
   },
   "file_extension": ".py",
   "mimetype": "text/x-python",
   "name": "python",
   "nbconvert_exporter": "python",
   "pygments_lexer": "ipython3",
   "version": "3.6.5"
  }
 },
 "nbformat": 4,
 "nbformat_minor": 2
}
