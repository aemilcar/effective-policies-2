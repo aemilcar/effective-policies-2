{
 "cells": [
  {
   "cell_type": "code",
   "execution_count": 123,
   "metadata": {},
   "outputs": [],
   "source": [
    "import pandas as pd\n",
    "import json\n",
    "import multiprocessing\n",
    "from multiprocessing import Pool\n",
    "import numpy as np\n",
    "import math"
   ]
  },
  {
   "cell_type": "code",
   "execution_count": 10,
   "metadata": {},
   "outputs": [],
   "source": [
    "def get_data_and_header(clean=False):\n",
    "    if clean:\n",
    "        df = pd.read_csv('../Data/transformed_2017.csv')\n",
    "        return df, list(df)\n",
    "    df = pd.read_csv('../Data/usa_00021.csv')\n",
    "    drop_list = ['DATANUM', 'SERIAL', 'CBSERIAL', 'PERNUM', 'RACED', 'BPLD', 'LANGUAGED', 'OCC', 'IND', 'HHWT']\n",
    "    df.drop(drop_list, axis=1, inplace=True)\n",
    "    header = list(df)\n",
    "    return df, header\n",
    "\n",
    "def read_json(f_name):\n",
    "    with open(f_name) as j:  \n",
    "        codebook = json.load(j)\n",
    "    return codebook"
   ]
  },
  {
   "cell_type": "code",
   "execution_count": 186,
   "metadata": {},
   "outputs": [],
   "source": [
    "def is_numerical(h):\n",
    "    return h in ['INCOME', 'HHWT', 'FARMPROD', 'MORTAMT1', 'PROPINSR', 'RENTGRS', 'CONDOFEE', 'MOBLHOME'\n",
    "                ,'COSTELEC', 'COSTGAS', 'COSTWATR', 'COSTFUEL', 'HHINCOME', 'VALUEH', 'PERWT',\n",
    "                'MOMLOC', 'POPLOC', 'BIRTHYR', 'RACED', 'YRIMMIG', 'YRSUSA1', 'OCC', 'IND', 'INCTOT',\n",
    "                'FTOTINC', 'INCSS', 'INCWELFR', 'INCRETIR', 'POVERTY', 'OCCSCORE', 'SEI', 'HWSEI',\n",
    "                'PRESGL', 'PRENT', 'MOVEDIN', 'RIDERS', 'TRANTIME', 'DEPARTS', 'ROOMS']\n",
    "\n",
    "def is_null_numerical(each):\n",
    "    \n",
    "    each = list(str(each))\n",
    "    \n",
    "    all_nines = []\n",
    "    all_nines_minus_one = []\n",
    "    \n",
    "    for e in each[:-1]:\n",
    "        all_nines.append('9')\n",
    "        all_nines_minus_one.append('9')\n",
    "    \n",
    "    all_nines.append('9')\n",
    "    \n",
    "    if len(each) == 1:\n",
    "        return False\n",
    "    \n",
    "    if (all_nines == each) or (all_nines_minus_one == each[:-1]):\n",
    "        return True\n",
    "    \n",
    "    return False\n",
    "\n",
    "\n",
    "def is_null_categorical(each):\n",
    "\n",
    "    missing_value_indicators = ['not identified', 'N/A']\n",
    "\n",
    "    if type(each) == str:    \n",
    "        for i in missing_value_indicators:\n",
    "            if i in each:\n",
    "                return True\n",
    "            \n",
    "    elif math.isnan(each):\n",
    "        return True\n",
    "\n",
    "    return False\n",
    "   \n",
    "\n",
    "def find_nulls(row):\n",
    "    '''\n",
    "    Rather than trying to return a totally new data structure, why not just standardize\n",
    "        On replacing all nulls with nan\n",
    "        Then using pandas data frame analytics\n",
    "        To check them out\n",
    "    '''\n",
    "    \n",
    "    new_row = list(row[:])\n",
    "    \n",
    "    for idx, each in enumerate(row):\n",
    "        \n",
    "        is_null = False\n",
    "        \n",
    "        h = header[idx]\n",
    "        \n",
    "        if h == 'YEAR':\n",
    "            continue\n",
    "\n",
    "        elif is_numerical(h) and is_null_numerical(each):\n",
    "            new_row[idx] = 0\n",
    "            \n",
    "        elif is_null_categorical(each):\n",
    "            new_row[idx] = 0\n",
    "            \n",
    "    return new_row\n",
    "\n",
    "def magic_loop(rows):\n",
    "    pool = Pool(processes=multiprocessing.cpu_count())\n",
    "    transformed_rows= pool.map(find_nulls, rows)\n",
    "    pool.close() \n",
    "    pool.join()\n",
    "    df = pd.DataFrame(transformed_rows, columns = header)\n",
    "    return df\n",
    "\n",
    "transformed_df = magic_loop(rows)"
   ]
  },
  {
   "cell_type": "code",
   "execution_count": 164,
   "metadata": {},
   "outputs": [
    {
     "name": "stderr",
     "output_type": "stream",
     "text": [
      "/home/ec2-user/anaconda3/envs/python3/lib/python3.6/site-packages/IPython/core/interactiveshell.py:2903: DtypeWarning: Columns (7,8,9,11,13,14,26,28,29,30,31,32,37,38,46,47,71) have mixed types. Specify dtype option on import or set low_memory=False.\n",
      "  if self.run_code(code, result):\n"
     ]
    }
   ],
   "source": [
    "codes = read_json('../Data/codebook.json')\n",
    "df, header = get_data_and_header(clean=True)\n",
    "rows = df.as_matrix()"
   ]
  },
  {
   "cell_type": "code",
   "execution_count": 188,
   "metadata": {},
   "outputs": [
    {
     "data": {
      "text/plain": [
       "(3190040, 110)"
      ]
     },
     "execution_count": 188,
     "metadata": {},
     "output_type": "execute_result"
    }
   ],
   "source": [
    "transformed_df.shape"
   ]
  },
  {
   "cell_type": "code",
   "execution_count": 189,
   "metadata": {},
   "outputs": [],
   "source": [
    "transformed_df.to_csv('../Data/transformed_missing_replaced_with_zero.csv', index=False)"
   ]
  },
  {
   "cell_type": "code",
   "execution_count": 190,
   "metadata": {},
   "outputs": [
    {
     "name": "stdout",
     "output_type": "stream",
     "text": [
      "upload: ../Data/transformed_missing_replaced_with_zero.csv to s3://ep-state-data-raw/2017-Cleaned/transformed_missing_replaced_with_zero.csv\n"
     ]
    }
   ],
   "source": [
    "!aws s3 cp '../Data/transformed_missing_replaced_with_zero.csv' s3://ep-state-data-raw/2017-Cleaned/"
   ]
  },
  {
   "cell_type": "code",
   "execution_count": null,
   "metadata": {},
   "outputs": [],
   "source": []
  }
 ],
 "metadata": {
  "kernelspec": {
   "display_name": "conda_python3",
   "language": "python",
   "name": "conda_python3"
  },
  "language_info": {
   "codemirror_mode": {
    "name": "ipython",
    "version": 3
   },
   "file_extension": ".py",
   "mimetype": "text/x-python",
   "name": "python",
   "nbconvert_exporter": "python",
   "pygments_lexer": "ipython3",
   "version": "3.6.5"
  }
 },
 "nbformat": 4,
 "nbformat_minor": 2
}
