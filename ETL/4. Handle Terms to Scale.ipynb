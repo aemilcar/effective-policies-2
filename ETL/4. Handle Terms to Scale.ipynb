{
 "cells": [
  {
   "cell_type": "code",
   "execution_count": 35,
   "metadata": {},
   "outputs": [],
   "source": [
    "import pandas as pd\n",
    "import json\n",
    "import multiprocessing\n",
    "from multiprocessing import Pool"
   ]
  },
  {
   "cell_type": "code",
   "execution_count": 27,
   "metadata": {},
   "outputs": [],
   "source": [
    "def get_data_and_header(nrows=None):\n",
    "    if nrows:\n",
    "        df = pd.read_csv('../Data/usa_00021.csv', nrows = nrows)\n",
    "    else:\n",
    "        df = pd.read_csv('../Data/usa_00021.csv')\n",
    "\n",
    "    drop_list = ['DATANUM', 'SERIAL', 'CBSERIAL', 'PERNUM', 'RACED', 'BPLD', 'LANGUAGED', 'OCC', 'IND', 'HHWT']\n",
    "    df.drop(drop_list, axis=1, inplace=True)\n",
    "    header = list(df)\n",
    "    return df, header\n",
    "\n",
    "\n",
    "df, header = get_data_and_header(nrows = 100000)"
   ]
  },
  {
   "cell_type": "code",
   "execution_count": 28,
   "metadata": {},
   "outputs": [],
   "source": [
    "def read_json(f_name):\n",
    "    with open(f_name) as j:  \n",
    "        codebook = json.load(j)\n",
    "    return codebook"
   ]
  },
  {
   "cell_type": "code",
   "execution_count": 29,
   "metadata": {},
   "outputs": [],
   "source": [
    "def is_skip_case(h):\n",
    "    # these are basically numeric terms\n",
    "    return h in ['INCOME', 'HHWT', 'FARMPROD', 'MORTAMT1', 'PROPINSR', 'RENTGRS', 'CONDOFEE', 'MOBLHOME'\n",
    "                ,'COSTELEC', 'COSTGAS', 'COSTWATR', 'COSTFUEL', 'HHINCOME', 'VALUEH', 'PERWT',\n",
    "                'MOMLOC', 'POPLOC', 'BIRTHYR', 'RACED', 'YRIMMIG', 'YRSUSA1', 'OCC', 'IND', 'INCTOT',\n",
    "                'FTOTINC', 'INCSS', 'INCWELFR', 'INCRETIR', 'POVERTY', 'OCCSCORE', 'SEI', 'HWSEI',\n",
    "                'PRESGL', 'PRENT', 'MOVEDIN', 'RIDERS', 'TRANTIME', 'DEPARTS', 'ROOMS']\n",
    "\n",
    "\n",
    "# It works well with variables defined within the kernel\n",
    "# It fails when we call other functions inside the process\n",
    "# But it won't error out, it just returns a None Type \n",
    "def transform_row(row):\n",
    "    new_row = row[:]\n",
    "    exceptions = {}\n",
    "    for idx, each in enumerate(row):\n",
    "        \n",
    "        h = header[idx]\n",
    "\n",
    "        if h == 'YEAR':\n",
    "            new_row[idx] = each\n",
    "            continue\n",
    "\n",
    "        key = str(int(each))\n",
    "\n",
    "        # start the special cases here         \n",
    "        if is_skip_case(h):\n",
    "            new_row[idx] = int(key) \n",
    "            continue\n",
    "            \n",
    "        try:\n",
    "            g = codes[h][key]\n",
    "        except:\n",
    "            print (h, key)\n",
    "            break\n",
    "#             new_row[idx] = codes[h][key]\n",
    "\n",
    "    return new_row\n",
    "\n",
    "def magic_loop(rows):\n",
    "    pool = Pool(processes=multiprocessing.cpu_count())\n",
    "    transformed_rows= pool.map(transform_row, rows)\n",
    "    pool.close() \n",
    "    pool.join()\n",
    "    df = pd.DataFrame(transformed_rows, columns = header)\n",
    "    return df"
   ]
  },
  {
   "cell_type": "code",
   "execution_count": 32,
   "metadata": {},
   "outputs": [],
   "source": [
    "codes = read_json('../Data/codebook.json')"
   ]
  },
  {
   "cell_type": "code",
   "execution_count": 33,
   "metadata": {},
   "outputs": [],
   "source": [
    "rows = df.as_matrix()"
   ]
  },
  {
   "cell_type": "code",
   "execution_count": 36,
   "metadata": {},
   "outputs": [],
   "source": [
    "transformed_df = magic_loop(rows)"
   ]
  },
  {
   "cell_type": "code",
   "execution_count": null,
   "metadata": {},
   "outputs": [],
   "source": [
    "other_categorical = ['MOVEDIN','MOMLOC','POPLOC','RIDERS']"
   ]
  },
  {
   "cell_type": "code",
   "execution_count": null,
   "metadata": {},
   "outputs": [],
   "source": [
    "year_terms = ['BIRTHYR',  'YRIMMIG', 'YRSUSA1']"
   ]
  },
  {
   "cell_type": "code",
   "execution_count": 40,
   "metadata": {},
   "outputs": [],
   "source": [
    "terms_to_scale = ['TRANTIME', 'DEPARTS', 'ROOMS']"
   ]
  },
  {
   "cell_type": "code",
   "execution_count": 45,
   "metadata": {},
   "outputs": [],
   "source": [
    "scale_by_inflation = ['INCOME', 'FARMPROD', 'MORTAMT1', 'PROPINSR', 'RENTGRS' ,'CONDOFEE', 'MOBLHOME', 'COSTELEC',\n",
    "                     'COSTGAS','COSTWATR','COSTFUEL','HHINCOME', 'VALUEH', 'INCTOT','FTOTINC',\n",
    "                     'INCSS','INCWELFR', 'INCRETIR']\n"
   ]
  },
  {
   "cell_type": "code",
   "execution_count": 43,
   "metadata": {},
   "outputs": [],
   "source": [
    "economic_terms = ['POVERTY', 'OCCSCORE', 'SEI', 'HWSEI','PRESGL', 'PRENT']"
   ]
  },
  {
   "cell_type": "code",
   "execution_count": 46,
   "metadata": {},
   "outputs": [
    {
     "data": {
      "text/plain": [
       "['INCOME',\n",
       " 'FARMPROD',\n",
       " 'MORTAMT1',\n",
       " 'PROPINSR',\n",
       " 'RENTGRS',\n",
       " 'CONDOFEE',\n",
       " 'MOBLHOME',\n",
       " 'COSTELEC',\n",
       " 'COSTGAS',\n",
       " 'COSTWATR',\n",
       " 'COSTFUEL',\n",
       " 'HHINCOME',\n",
       " 'VALUEH',\n",
       " 'INCTOT',\n",
       " 'FTOTINC',\n",
       " 'INCSS',\n",
       " 'INCWELFR',\n",
       " 'INCRETIR']"
      ]
     },
     "execution_count": 46,
     "metadata": {},
     "output_type": "execute_result"
    }
   ],
   "source": [
    "scale_by_inflation"
   ]
  },
  {
   "cell_type": "code",
   "execution_count": null,
   "metadata": {},
   "outputs": [],
   "source": []
  }
 ],
 "metadata": {
  "kernelspec": {
   "display_name": "conda_python3",
   "language": "python",
   "name": "conda_python3"
  },
  "language_info": {
   "codemirror_mode": {
    "name": "ipython",
    "version": 3
   },
   "file_extension": ".py",
   "mimetype": "text/x-python",
   "name": "python",
   "nbconvert_exporter": "python",
   "pygments_lexer": "ipython3",
   "version": "3.6.5"
  }
 },
 "nbformat": 4,
 "nbformat_minor": 2
}
