{
 "cells": [
  {
   "cell_type": "code",
   "execution_count": 1,
   "metadata": {},
   "outputs": [],
   "source": [
    "import pandas as pd"
   ]
  },
  {
   "cell_type": "code",
   "execution_count": 2,
   "metadata": {},
   "outputs": [
    {
     "name": "stdout",
     "output_type": "stream",
     "text": [
      "download: s3://ep-state-data-raw/2017-Cleaned/transformed_missing_replaced_with_zero.csv to ./transformed_missing_replaced_with_zero.csv\n"
     ]
    }
   ],
   "source": [
    "!aws s3 cp s3://ep-state-data-raw/2017-Cleaned/transformed_missing_replaced_with_zero.csv ."
   ]
  },
  {
   "cell_type": "code",
   "execution_count": 3,
   "metadata": {
    "scrolled": true
   },
   "outputs": [
    {
     "name": "stderr",
     "output_type": "stream",
     "text": [
      "/home/ec2-user/anaconda3/envs/python3/lib/python3.6/site-packages/IPython/core/interactiveshell.py:2785: DtypeWarning: Columns (7,8,9,11,13,14,26,28,29,30,31,32,33,37,38,46,47,71) have mixed types. Specify dtype option on import or set low_memory=False.\n",
      "  interactivity=interactivity, compiler=compiler, result=result)\n"
     ]
    }
   ],
   "source": [
    "df = pd.read_csv('../Data/transformed_missing_replaced_with_zero.csv')"
   ]
  },
  {
   "cell_type": "code",
   "execution_count": 6,
   "metadata": {},
   "outputs": [],
   "source": [
    "ny = df[ df['STATEICP'] == 'New York']"
   ]
  },
  {
   "cell_type": "code",
   "execution_count": 7,
   "metadata": {},
   "outputs": [],
   "source": [
    "il = df[ df['STATEICP'] == 'Illinois']"
   ]
  },
  {
   "cell_type": "code",
   "execution_count": 9,
   "metadata": {},
   "outputs": [],
   "source": [
    "wa = df[ df['STATEICP'] == 'Washington']"
   ]
  },
  {
   "cell_type": "code",
   "execution_count": 11,
   "metadata": {},
   "outputs": [
    {
     "data": {
      "text/plain": [
       "['YEAR',\n",
       " 'REGION',\n",
       " 'STATEICP',\n",
       " 'METRO',\n",
       " 'HOMELAND',\n",
       " 'GQ',\n",
       " 'FARM',\n",
       " 'OWNERSHP',\n",
       " 'OWNERSHPD',\n",
       " 'MORTGAGE',\n",
       " 'FARMPROD',\n",
       " 'ACREHOUS',\n",
       " 'MORTAMT1',\n",
       " 'TAXINCL',\n",
       " 'INSINCL',\n",
       " 'PROPINSR',\n",
       " 'RENTGRS',\n",
       " 'CONDOFEE',\n",
       " 'MOBLHOME',\n",
       " 'COSTELEC',\n",
       " 'COSTGAS',\n",
       " 'COSTWATR',\n",
       " 'COSTFUEL',\n",
       " 'HHINCOME',\n",
       " 'VALUEH',\n",
       " 'VACANCY',\n",
       " 'KITCHEN',\n",
       " 'ROOMS',\n",
       " 'PLUMBING',\n",
       " 'UNITSSTR',\n",
       " 'PHONE',\n",
       " 'FUELHEAT',\n",
       " 'VEHICLES',\n",
       " 'NFAMS',\n",
       " 'NCOUPLES',\n",
       " 'NMOTHERS',\n",
       " 'NFATHERS',\n",
       " 'MULTGEN',\n",
       " 'MULTGEND',\n",
       " 'PERWT',\n",
       " 'MOMLOC',\n",
       " 'POPLOC',\n",
       " 'SPRULE',\n",
       " 'NCHILD',\n",
       " 'NCHLT5',\n",
       " 'NSIBS',\n",
       " 'ELDCH',\n",
       " 'YNGCH',\n",
       " 'RELATE',\n",
       " 'RELATED',\n",
       " 'SEX',\n",
       " 'AGE',\n",
       " 'MARST',\n",
       " 'BIRTHYR',\n",
       " 'FERTYR',\n",
       " 'RACE',\n",
       " 'BPL',\n",
       " 'CITIZEN',\n",
       " 'YRIMMIG',\n",
       " 'YRSUSA1',\n",
       " 'LANGUAGE',\n",
       " 'SPEAKENG',\n",
       " 'SCHOOL',\n",
       " 'EDUC',\n",
       " 'EDUCD',\n",
       " 'GRADEATT',\n",
       " 'GRADEATTD',\n",
       " 'SCHLTYPE',\n",
       " 'EMPSTAT',\n",
       " 'EMPSTATD',\n",
       " 'WKSWORK2',\n",
       " 'UHRSWORK',\n",
       " 'WRKLSTWK',\n",
       " 'LOOKING',\n",
       " 'AVAILBLE',\n",
       " 'WORKEDYR',\n",
       " 'INCTOT',\n",
       " 'FTOTINC',\n",
       " 'INCSS',\n",
       " 'INCWELFR',\n",
       " 'INCRETIR',\n",
       " 'POVERTY',\n",
       " 'OCCSCORE',\n",
       " 'SEI',\n",
       " 'HWSEI',\n",
       " 'PRESGL',\n",
       " 'PRENT',\n",
       " 'MIGRATE1',\n",
       " 'MIGRATE1D',\n",
       " 'MIGPLAC1',\n",
       " 'MOVEDIN',\n",
       " 'DIFFREM',\n",
       " 'DIFFPHYS',\n",
       " 'DIFFMOB',\n",
       " 'DIFFCARE',\n",
       " 'DIFFSENS',\n",
       " 'VETSTAT',\n",
       " 'VETSTATD',\n",
       " 'VET75X90',\n",
       " 'VETVIETN',\n",
       " 'VET55X64',\n",
       " 'VETKOREA',\n",
       " 'VETWWII',\n",
       " 'VETOTHER',\n",
       " 'PWSTATE2',\n",
       " 'TRANWORK',\n",
       " 'CARPOOL',\n",
       " 'RIDERS',\n",
       " 'TRANTIME',\n",
       " 'DEPARTS']"
      ]
     },
     "execution_count": 11,
     "metadata": {},
     "output_type": "execute_result"
    }
   ],
   "source": [
    "list(wa)"
   ]
  },
  {
   "cell_type": "code",
   "execution_count": 12,
   "metadata": {},
   "outputs": [],
   "source": [
    "avg_hh =  'HHINCOME'\n",
    "poverty = 'POVERTY'\n",
    "education = 'EDUC'"
   ]
  },
  {
   "cell_type": "code",
   "execution_count": 16,
   "metadata": {},
   "outputs": [
    {
     "name": "stdout",
     "output_type": "stream",
     "text": [
      "Found average in state Illinois for col HHINCOME of 97728.49410983382\n",
      "Found average in state Illinois for col POVERTY of 317.24646985341786\n",
      "Found average in state Washington for col HHINCOME of 103826.69442399089\n",
      "Found average in state Washington for col POVERTY of 330.5337974429346\n"
     ]
    }
   ],
   "source": [
    "state = ['Illinois', 'Washington']\n",
    "\n",
    "for i, frame in enumerate([il, wa]):\n",
    "    for var in [avg_hh, poverty]:\n",
    "        mean = frame[var].mean()\n",
    "        print ('Found average in state {} for col {} of {}'.format(state[i], var, mean))"
   ]
  },
  {
   "cell_type": "code",
   "execution_count": null,
   "metadata": {},
   "outputs": [],
   "source": []
  }
 ],
 "metadata": {
  "kernelspec": {
   "display_name": "conda_python3",
   "language": "python",
   "name": "conda_python3"
  },
  "language_info": {
   "codemirror_mode": {
    "name": "ipython",
    "version": 3
   },
   "file_extension": ".py",
   "mimetype": "text/x-python",
   "name": "python",
   "nbconvert_exporter": "python",
   "pygments_lexer": "ipython3",
   "version": "3.6.5"
  }
 },
 "nbformat": 4,
 "nbformat_minor": 2
}
