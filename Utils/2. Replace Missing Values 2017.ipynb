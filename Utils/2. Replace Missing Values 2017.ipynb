{
 "cells": [
  {
   "cell_type": "code",
   "execution_count": 18,
   "metadata": {},
   "outputs": [],
   "source": [
    "import pandas as pd\n",
    "import sys\n",
    "import json"
   ]
  },
  {
   "cell_type": "code",
   "execution_count": 10,
   "metadata": {},
   "outputs": [],
   "source": [
    "df = pd.read_csv('../Data/transformed_2017.csv', nrows = 1000)"
   ]
  },
  {
   "cell_type": "code",
   "execution_count": 19,
   "metadata": {},
   "outputs": [],
   "source": [
    "def read_data():\n",
    "    data = []\n",
    "    f = '../Data/codebook_21.txt'\n",
    "    with open(f) as f_pointer:\n",
    "        for row in f_pointer.readlines():\n",
    "            data.append(row.strip('/n'))\n",
    "    return data"
   ]
  },
  {
   "cell_type": "code",
   "execution_count": 22,
   "metadata": {},
   "outputs": [],
   "source": [
    "def is_int(row, meta_heading):\n",
    "#     if meta_heading == 'FARM':\n",
    "#         print (row)\n",
    "\n",
    "    try:\n",
    "        int(row[0])\n",
    "        return True\n",
    "    except:\n",
    "        return False\n",
    "      \n",
    "def is_metaheading(row):\n",
    "    if '\\t' in row and row[0].isalpha():\n",
    "        return True\n",
    "    else:\n",
    "        return False\n",
    "    \n",
    "def is_subheader(row, meta_heading):\n",
    "    \n",
    "    # these are meta headings where the keys have tabs\n",
    "    # this throws off the logic below, but b/c we know from the codebook that they have no subheadings\n",
    "    # we automatically return False\n",
    "    if meta_heading in ['FARM','UNITSSTR', 'RELATE', 'RELATED', 'WKSWORK2', 'MULTGEND', 'METRO',\n",
    "                        'WORKEDYR', 'SCHLTYPE', 'VETVIETN', 'EMPSTATD', 'MIGRATE1D', 'LANGUAGE',\n",
    "                       'GQ', 'MIGPLAC1']:\n",
    "        return False\n",
    "\n",
    "    a = row[0].isalpha()\n",
    "    b = '\\t' not in row\n",
    "    c = ('-' in row) or (':' in row)\n",
    "    \n",
    "    rt = (a and b) or c\n",
    "\n",
    "    \n",
    "    return rt\n",
    "\n",
    "def is_header_break(row):\n",
    "    return row == '\\n'\n",
    "\n",
    "# This skips subheadings right now by a list\n",
    "# But are there any subheadings that we want stored in the old way right now? Unknown. \n",
    "def create_codebook_store(data):\n",
    "    store = {}\n",
    "    \n",
    "    sub_headings_direct = ['REGION', 'GQ', 'ACREHOUS', 'BPL']\n",
    "    has_subheading = False\n",
    "    sub_heading_direct_placement = False\n",
    "    \n",
    "    for idx, row in enumerate(data):\n",
    "        \n",
    "        # find the meta heading and create that dictionary \n",
    "        if is_metaheading(row):\n",
    "            meta_heading = row.split('\\t') [0]\n",
    "            meta_dict = {}\n",
    "            has_subheading = False\n",
    "\n",
    "            if meta_heading in sub_headings_direct:\n",
    "                sub_heading_direct_placement = True\n",
    "            continue\n",
    "\n",
    "\n",
    "        # find the sub headings and create inner dictionaries\n",
    "        elif is_subheader(row, meta_heading):\n",
    "\n",
    "            sub_heading = row.strip('\\n')\n",
    "            \n",
    "            has_subheading = True\n",
    "\n",
    "            if not sub_heading_direct_placement:\n",
    "                meta_dict[sub_heading] = {}\n",
    "                \n",
    "            continue\n",
    "\n",
    "        # find the integers and add them, along with their meanings, to the inner dictionary\n",
    "        elif is_int(row, meta_heading):\n",
    "            \n",
    "            lines = row.split('\\t')\n",
    "            key = int(lines[0].strip('/t'))\n",
    "            value = lines[-1].strip('\\n')\n",
    "            \n",
    "            if has_subheading and not sub_heading_direct_placement:\n",
    "                meta_dict[sub_heading][key] = value\n",
    "            \n",
    "            elif has_subheading and sub_heading_direct_placement:\n",
    "                meta_dict[key] = sub_heading\n",
    "            \n",
    "            else:\n",
    "                meta_dict[key] = value\n",
    "            \n",
    "            continue\n",
    "\n",
    "        # find the header break\n",
    "        elif is_header_break(row):\n",
    "            store[meta_heading] = meta_dict\n",
    "            has_subheading = False\n",
    "            skip_subheading = False\n",
    " \n",
    "    return store \n",
    "\n",
    "data = read_data()\n",
    "store = create_codebook_store(data)"
   ]
  },
  {
   "cell_type": "markdown",
   "metadata": {},
   "source": [
    "## First, we need to handle the columns with missing values. \n",
    "Many of the columns indicate that a missing value can also mean no. Let's see which columns have missing values"
   ]
  },
  {
   "cell_type": "code",
   "execution_count": 15,
   "metadata": {},
   "outputs": [],
   "source": [
    "missing = []\n",
    "\n",
    "for h in list(df):\n",
    "    if df[h].isnull().any():\n",
    "        missing.append(h)"
   ]
  },
  {
   "cell_type": "code",
   "execution_count": 16,
   "metadata": {},
   "outputs": [
    {
     "data": {
      "text/plain": [
       "34"
      ]
     },
     "execution_count": 16,
     "metadata": {},
     "output_type": "execute_result"
    }
   ],
   "source": [
    "len(missing)"
   ]
  },
  {
   "cell_type": "code",
   "execution_count": 17,
   "metadata": {},
   "outputs": [
    {
     "data": {
      "text/plain": [
       "110"
      ]
     },
     "execution_count": 17,
     "metadata": {},
     "output_type": "execute_result"
    }
   ],
   "source": [
    "len(list(df))"
   ]
  },
  {
   "cell_type": "markdown",
   "metadata": {},
   "source": [
    "## Next, let's create a mapper\n",
    "That can map a column to how it represents missing values"
   ]
  },
  {
   "cell_type": "code",
   "execution_count": 23,
   "metadata": {},
   "outputs": [],
   "source": [
    "data = read_data()\n",
    "store = create_codebook_store(data)"
   ]
  },
  {
   "cell_type": "code",
   "execution_count": 25,
   "metadata": {},
   "outputs": [],
   "source": [
    "missing_value_indicators = ['not identified', 'or N/A', 'N/A']"
   ]
  },
  {
   "cell_type": "code",
   "execution_count": 26,
   "metadata": {},
   "outputs": [],
   "source": [
    "numerical_columns = ['INCOME', 'HHWT', 'FARMPROD', 'MORTAMT1', 'PROPINSR', 'RENTGRS', 'CONDOFEE', 'MOBLHOME'\n",
    "                ,'COSTELEC', 'COSTGAS', 'COSTWATR', 'COSTFUEL', 'HHINCOME', 'VALUEH', 'PERWT',\n",
    "                'MOMLOC', 'POPLOC', 'BIRTHYR', 'RACED', 'YRIMMIG', 'YRSUSA1', 'OCC', 'IND', 'INCTOT',\n",
    "                'FTOTINC', 'INCSS', 'INCWELFR', 'INCRETIR', 'POVERTY', 'OCCSCORE', 'SEI', 'HWSEI',\n",
    "                'PRESGL', 'PRENT', 'MOVEDIN', 'RIDERS', 'TRANTIME', 'DEPARTS', 'ROOMS']"
   ]
  },
  {
   "cell_type": "markdown",
   "metadata": {},
   "source": [
    "For the numerical columns, we are going to assume that if all or all-minus-one digits are 9's, that is a non-relevant indicator. Similar with 00's. "
   ]
  }
 ],
 "metadata": {
  "kernelspec": {
   "display_name": "conda_python3",
   "language": "python",
   "name": "conda_python3"
  },
  "language_info": {
   "codemirror_mode": {
    "name": "ipython",
    "version": 3
   },
   "file_extension": ".py",
   "mimetype": "text/x-python",
   "name": "python",
   "nbconvert_exporter": "python",
   "pygments_lexer": "ipython3",
   "version": "3.6.5"
  }
 },
 "nbformat": 4,
 "nbformat_minor": 2
}
